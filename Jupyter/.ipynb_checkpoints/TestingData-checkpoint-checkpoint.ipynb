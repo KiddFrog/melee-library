{
 "cells": [
  {
   "cell_type": "code",
   "execution_count": 19,
   "id": "268d33f6-6661-46d1-83ab-2f439fae5f15",
   "metadata": {},
   "outputs": [
    {
     "name": "stdout",
     "output_type": "stream",
     "text": [
      "                    startAt  lastFrame consoleNick                                                              players playedOn\n",
      "2  2022-08-29T02:53:35.192Z      12034        MAIN   {'characters': {'7': 12158}, 'names': {'netplay': '', 'code': ''}}  network\n",
      "3  2022-08-29T02:53:35.192Z      12034        MAIN  {'characters': {'18': 12158}, 'names': {'netplay': '', 'code': ''}}  network\n",
      "       frame  playerIndex  isFollower  internalCharacterId  actionStateId   positionX   positionY  facingDirection    percent  shieldSize  lastAttackLanded  currentComboCount  lastHitBy  stocksRemaining  actionStateCounter  miscActionState  isAirborne  lastGroundId  jumpsRemaining  lCancelStatus  hurtboxCollisionState  hitlagRemaining animationIndex  selfInducedSpeeds.airX  selfInducedSpeeds.y  selfInducedSpeeds.attackX  selfInducedSpeeds.attackY  selfInducedSpeeds.groundX\n",
      "0          0            2       False                    7            342  -40.000000    0.000100                1    0.00000        60.0                 0                  0          6                4                 6.0              0.0       False            34               2              0                      0                0           None                  0.0000                 0.00                   0.000000                   0.000000                        0.0\n",
      "1          1            2       False                    7            342  -40.000000    0.000100                1    0.00000        60.0                 0                  0          6                4                 7.0              0.0       False            34               2              0                      0                0           None                  0.0000                 0.00                   0.000000                   0.000000                        0.0\n",
      "2          2            2       False                    7            342  -40.000000    0.000100                1    0.00000        60.0                 0                  0          6                4                 8.0              0.0       False            34               2              0                      0                0           None                  0.0000                 0.00                   0.000000                   0.000000                        0.0\n",
      "3          3            2       False                    7            342  -40.000000    0.000100                1    0.00000        60.0                 0                  0          6                4                 9.0              0.0       False            34               2              0                      0                0           None                  0.0000                 0.00                   0.000000                   0.000000                        0.0\n",
      "4          4            2       False                    7            342  -40.000000    0.000100                1    0.00000        60.0                 0                  0          6                4                10.0              0.0       False            34               2              0                      0                0           None                  0.0000                 0.00                   0.000000                   0.000000                        0.0\n",
      "...      ...          ...         ...                  ...            ...         ...         ...              ...        ...         ...               ...                ...        ...              ...                 ...              ...         ...           ...             ...            ...                    ...              ...            ...                     ...                  ...                        ...                        ...                        ...\n",
      "12029  12029            2       False                    7             91 -225.585419  105.798309                1  147.23999        60.0                18                  1          3                1                10.0              4.0        True            51               1              0                      0                0           None                  0.0000                -2.13                  -1.115932                   1.772353                        0.0\n",
      "12030  12030            2       False                    7             91 -226.674179  105.397507                1  147.23999        60.0                18                  1          3                1                11.0              3.0        True            51               1              0                      0                0           None                  0.0000                -2.13                  -1.088758                   1.729195                        0.0\n",
      "12031  12031            2       False                    7             91 -227.735764  104.953545                1  147.23999        60.0                18                  1          3                1                12.0              2.0        True            51               1              0                      0                0           None                  0.0000                -2.13                  -1.061584                   1.686038                        0.0\n",
      "12032  12032            2       False                    7             91 -228.770172  104.466431                1  147.23999        60.0                18                  1          3                1                13.0              1.0        True            51               1              0                      0                0           None                  0.0000                -2.13                  -1.034411                   1.642880                        0.0\n",
      "12033  12033            2       False                    7             38 -229.717926  103.936157                1  147.23999        60.0                18                  1          3                1                 0.0              0.0        True            51               1              0                      0                0           None                  0.0595                -2.13                  -1.007237                   1.599722                        0.0\n",
      "\n",
      "[12034 rows x 28 columns]\n"
     ]
    }
   ],
   "source": [
    "import json\n",
    "import pandas as pd\n",
    "\n",
    "pd.set_option('display.max_colwidth', None)\n",
    "pd.set_option('display.width', 1000)  # Set the width of the display in characters\n",
    "pd.set_option('display.max_columns', 30)  # Set the maximum number of columns to display\n",
    "\n",
    "\n",
    "df = pd.read_json(\"../../test/all_post_frames.json\")\n",
    "df_metadata = pd.read_json(\"../../test/metadata.json\")\n",
    "# df_settings = pd.read_json(\"../../test/settings.json\")\n",
    "\n",
    "df_player2 = pd.json_normalize(df['player2'])\n",
    "df_player3 = pd.json_normalize(df['player3'])\n",
    "\n",
    "print(df_metadata)\n",
    "# print(df_settings)\n",
    "\n",
    "print(df_player2)\n"
   ]
  }
 ],
 "metadata": {
  "kernelspec": {
   "display_name": "Python 3 (ipykernel)",
   "language": "python",
   "name": "python3"
  },
  "language_info": {
   "codemirror_mode": {
    "name": "ipython",
    "version": 3
   },
   "file_extension": ".py",
   "mimetype": "text/x-python",
   "name": "python",
   "nbconvert_exporter": "python",
   "pygments_lexer": "ipython3",
   "version": "3.11.5"
  }
 },
 "nbformat": 4,
 "nbformat_minor": 5
}
